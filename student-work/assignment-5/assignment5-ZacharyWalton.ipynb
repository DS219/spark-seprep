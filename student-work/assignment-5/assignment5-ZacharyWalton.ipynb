{
  "cells": [
    {
      "cell_type": "markdown",
      "metadata": {},
      "source": [
        "# Assignment 5: Exploratory Data Analysis and Hypothesis Testing\n",
        "\n",
        "**Student:** [Your Name Here]  \n",
        "**Dataset:** [Choose one: Air Quality, Adult Income, Heart Disease, Online Shoppers, or Solar Flare]  \n",
        "**Date:** [Current Date]\n",
        "\n",
        "## Objective\n",
        "Perform exploratory data analysis (EDA) and hypothesis testing on your chosen dataset. Identify patterns and test meaningful hypotheses about relationships between variables.\n",
        "\n",
        "---\n"
      ]
    },
    {
      "cell_type": "markdown",
      "metadata": {},
      "source": [
        "## 1. Import Data and Libraries\n",
        "\n",
        "Import the necessary libraries and load your dataset.\n"
      ]
    },
    {
      "cell_type": "code",
      "execution_count": 1,
      "metadata": {},
      "outputs": [
        {
          "name": "stdout",
          "output_type": "stream",
          "text": [
            "Libraries imported successfully!\n"
          ]
        }
      ],
      "source": [
        "# Import libraries\n",
        "import pandas as pd\n",
        "import numpy as np\n",
        "import matplotlib.pyplot as plt\n",
        "import seaborn as sns\n",
        "from scipy import stats\n",
        "\n",
        "# Set up plotting\n",
        "plt.style.use('default')\n",
        "sns.set_palette(\"husl\")\n",
        "\n",
        "print(\"Libraries imported successfully!\")\n"
      ]
    },
    {
      "cell_type": "code",
      "execution_count": 2,
      "metadata": {},
      "outputs": [
        {
          "name": "stdout",
          "output_type": "stream",
          "text": [
            "Dataset shape: (200, 4)\n"
          ]
        },
        {
          "data": {
            "text/html": [
              "<div>\n",
              "<style scoped>\n",
              "    .dataframe tbody tr th:only-of-type {\n",
              "        vertical-align: middle;\n",
              "    }\n",
              "\n",
              "    .dataframe tbody tr th {\n",
              "        vertical-align: top;\n",
              "    }\n",
              "\n",
              "    .dataframe thead th {\n",
              "        text-align: right;\n",
              "    }\n",
              "</style>\n",
              "<table border=\"1\" class=\"dataframe\">\n",
              "  <thead>\n",
              "    <tr style=\"text-align: right;\">\n",
              "      <th></th>\n",
              "      <th>age</th>\n",
              "      <th>income</th>\n",
              "      <th>education</th>\n",
              "      <th>target</th>\n",
              "    </tr>\n",
              "  </thead>\n",
              "  <tbody>\n",
              "    <tr>\n",
              "      <th>0</th>\n",
              "      <td>57.450712</td>\n",
              "      <td>57155.747207</td>\n",
              "      <td>Graduate</td>\n",
              "      <td>0</td>\n",
              "    </tr>\n",
              "    <tr>\n",
              "      <th>1</th>\n",
              "      <td>47.926035</td>\n",
              "      <td>61215.690527</td>\n",
              "      <td>Graduate</td>\n",
              "      <td>0</td>\n",
              "    </tr>\n",
              "    <tr>\n",
              "      <th>2</th>\n",
              "      <td>59.715328</td>\n",
              "      <td>71661.024864</td>\n",
              "      <td>High School</td>\n",
              "      <td>1</td>\n",
              "    </tr>\n",
              "    <tr>\n",
              "      <th>3</th>\n",
              "      <td>72.845448</td>\n",
              "      <td>71076.041041</td>\n",
              "      <td>High School</td>\n",
              "      <td>0</td>\n",
              "    </tr>\n",
              "    <tr>\n",
              "      <th>4</th>\n",
              "      <td>46.487699</td>\n",
              "      <td>22446.612641</td>\n",
              "      <td>Graduate</td>\n",
              "      <td>0</td>\n",
              "    </tr>\n",
              "  </tbody>\n",
              "</table>\n",
              "</div>"
            ],
            "text/plain": [
              "         age        income    education  target\n",
              "0  57.450712  57155.747207     Graduate       0\n",
              "1  47.926035  61215.690527     Graduate       0\n",
              "2  59.715328  71661.024864  High School       1\n",
              "3  72.845448  71076.041041  High School       0\n",
              "4  46.487699  22446.612641     Graduate       0"
            ]
          },
          "execution_count": 2,
          "metadata": {},
          "output_type": "execute_result"
        }
      ],
      "source": [
        "# Load your dataset here\n",
        "# Replace this with your actual data loading code\n",
        "# Example for Heart Disease dataset:\n",
        "# df = pd.read_csv('heart_disease.csv')\n",
        "\n",
        "# For this template, I'll create a simple example dataset\n",
        "np.random.seed(42)\n",
        "n = 200\n",
        "\n",
        "# Create sample data (replace with your actual dataset)\n",
        "data = {\n",
        "    'age': np.random.normal(50, 15, n),\n",
        "    'income': np.random.normal(50000, 20000, n),\n",
        "    'education': np.random.choice(['High School', 'College', 'Graduate'], n),\n",
        "    'target': np.random.choice([0, 1], n, p=[0.6, 0.4])\n",
        "}\n",
        "\n",
        "df = pd.DataFrame(data)\n",
        "print(f\"Dataset shape: {df.shape}\")\n",
        "df.head()\n"
      ]
    },
    {
      "cell_type": "markdown",
      "metadata": {},
      "source": [
        "## 2. Exploratory Data Analysis (EDA)\n",
        "\n",
        "Explore your dataset to understand its structure and identify patterns.\n"
      ]
    },
    {
      "cell_type": "code",
      "execution_count": 3,
      "metadata": {},
      "outputs": [
        {
          "name": "stdout",
          "output_type": "stream",
          "text": [
            "=== DATASET OVERVIEW ===\n",
            "Shape: (200, 4)\n",
            "\n",
            "Data types:\n",
            "age          float64\n",
            "income       float64\n",
            "education     object\n",
            "target         int64\n",
            "dtype: object\n",
            "\n",
            "Missing values:\n",
            "age          0\n",
            "income       0\n",
            "education    0\n",
            "target       0\n",
            "dtype: int64\n",
            "\n",
            "Basic statistics:\n"
          ]
        },
        {
          "data": {
            "text/html": [
              "<div>\n",
              "<style scoped>\n",
              "    .dataframe tbody tr th:only-of-type {\n",
              "        vertical-align: middle;\n",
              "    }\n",
              "\n",
              "    .dataframe tbody tr th {\n",
              "        vertical-align: top;\n",
              "    }\n",
              "\n",
              "    .dataframe thead th {\n",
              "        text-align: right;\n",
              "    }\n",
              "</style>\n",
              "<table border=\"1\" class=\"dataframe\">\n",
              "  <thead>\n",
              "    <tr style=\"text-align: right;\">\n",
              "      <th></th>\n",
              "      <th>age</th>\n",
              "      <th>income</th>\n",
              "      <th>target</th>\n",
              "    </tr>\n",
              "  </thead>\n",
              "  <tbody>\n",
              "    <tr>\n",
              "      <th>count</th>\n",
              "      <td>200.000000</td>\n",
              "      <td>200.000000</td>\n",
              "      <td>200.000000</td>\n",
              "    </tr>\n",
              "    <tr>\n",
              "      <th>mean</th>\n",
              "      <td>49.388436</td>\n",
              "      <td>51717.363738</td>\n",
              "      <td>0.390000</td>\n",
              "    </tr>\n",
              "    <tr>\n",
              "      <th>std</th>\n",
              "      <td>13.965059</td>\n",
              "      <td>19740.076220</td>\n",
              "      <td>0.488974</td>\n",
              "    </tr>\n",
              "    <tr>\n",
              "      <th>min</th>\n",
              "      <td>10.703823</td>\n",
              "      <td>-14825.346801</td>\n",
              "      <td>0.000000</td>\n",
              "    </tr>\n",
              "    <tr>\n",
              "      <th>25%</th>\n",
              "      <td>39.423085</td>\n",
              "      <td>37883.249244</td>\n",
              "      <td>0.000000</td>\n",
              "    </tr>\n",
              "    <tr>\n",
              "      <th>50%</th>\n",
              "      <td>49.937122</td>\n",
              "      <td>51576.786976</td>\n",
              "      <td>0.000000</td>\n",
              "    </tr>\n",
              "    <tr>\n",
              "      <th>75%</th>\n",
              "      <td>57.512787</td>\n",
              "      <td>63744.622814</td>\n",
              "      <td>1.000000</td>\n",
              "    </tr>\n",
              "    <tr>\n",
              "      <th>max</th>\n",
              "      <td>90.802537</td>\n",
              "      <td>127054.629813</td>\n",
              "      <td>1.000000</td>\n",
              "    </tr>\n",
              "  </tbody>\n",
              "</table>\n",
              "</div>"
            ],
            "text/plain": [
              "              age         income      target\n",
              "count  200.000000     200.000000  200.000000\n",
              "mean    49.388436   51717.363738    0.390000\n",
              "std     13.965059   19740.076220    0.488974\n",
              "min     10.703823  -14825.346801    0.000000\n",
              "25%     39.423085   37883.249244    0.000000\n",
              "50%     49.937122   51576.786976    0.000000\n",
              "75%     57.512787   63744.622814    1.000000\n",
              "max     90.802537  127054.629813    1.000000"
            ]
          },
          "execution_count": 3,
          "metadata": {},
          "output_type": "execute_result"
        }
      ],
      "source": [
        "# Basic dataset information\n",
        "print(\"=== DATASET OVERVIEW ===\")\n",
        "print(f\"Shape: {df.shape}\")\n",
        "print(f\"\\nData types:\")\n",
        "print(df.dtypes)\n",
        "print(f\"\\nMissing values:\")\n",
        "print(df.isnull().sum())\n",
        "print(f\"\\nBasic statistics:\")\n",
        "df.describe()\n"
      ]
    },
    {
      "cell_type": "code",
      "execution_count": 4,
      "metadata": {},
      "outputs": [
        {
          "name": "stdout",
          "output_type": "stream",
          "text": [
            "=== TARGET VARIABLE ===\n",
            "Target distribution:\n",
            "target\n",
            "0    122\n",
            "1     78\n",
            "Name: count, dtype: int64\n"
          ]
        },
        {
          "data": {
            "image/png": "[encoded data removed]",
            "text/plain": [
              "<Figure size 1000x400 with 2 Axes>"
            ]
          },
          "metadata": {},
          "output_type": "display_data"
        }
      ],
      "source": [
        "# Target variable analysis\n",
        "print(\"=== TARGET VARIABLE ===\")\n",
        "target_counts = df['target'].value_counts()\n",
        "print(f\"Target distribution:\")\n",
        "print(target_counts)\n",
        "\n",
        "# Visualize target distribution\n",
        "plt.figure(figsize=(10, 4))\n",
        "\n",
        "plt.subplot(1, 2, 1)\n",
        "target_counts.plot(kind='bar')\n",
        "plt.title('Target Distribution')\n",
        "plt.xlabel('Target')\n",
        "plt.ylabel('Count')\n",
        "\n",
        "plt.subplot(1, 2, 2)\n",
        "plt.pie(target_counts.values, labels=target_counts.index, autopct='%1.1f%%')\n",
        "plt.title('Target Distribution (%)')\n",
        "\n",
        "plt.tight_layout()\n",
        "plt.show()\n"
      ]
    },
    {
      "cell_type": "code",
      "execution_count": 5,
      "metadata": {},
      "outputs": [
        {
          "name": "stdout",
          "output_type": "stream",
          "text": [
            "=== NUMERICAL VARIABLES ===\n",
            "Numerical columns: ['age', 'income', 'target']\n"
          ]
        },
        {
          "data": {
            "image/png": "[encoded data removed]",
            "text/plain": [
              "<Figure size 1500x400 with 3 Axes>"
            ]
          },
          "metadata": {},
          "output_type": "display_data"
        }
      ],
      "source": [
        "# Numerical variables analysis\n",
        "print(\"=== NUMERICAL VARIABLES ===\")\n",
        "numerical_cols = df.select_dtypes(include=[np.number]).columns\n",
        "print(f\"Numerical columns: {list(numerical_cols)}\")\n",
        "\n",
        "# Create histograms for numerical variables\n",
        "fig, axes = plt.subplots(1, len(numerical_cols), figsize=(5*len(numerical_cols), 4))\n",
        "if len(numerical_cols) == 1:\n",
        "    axes = [axes]\n",
        "\n",
        "for i, col in enumerate(numerical_cols):\n",
        "    axes[i].hist(df[col], bins=20, alpha=0.7)\n",
        "    axes[i].set_title(f'{col} Distribution')\n",
        "    axes[i].set_xlabel(col)\n",
        "    axes[i].set_ylabel('Frequency')\n",
        "\n",
        "plt.tight_layout()\n",
        "plt.show()\n"
      ]
    },
    {
      "cell_type": "code",
      "execution_count": 6,
      "metadata": {},
      "outputs": [
        {
          "name": "stdout",
          "output_type": "stream",
          "text": [
            "=== CATEGORICAL VARIABLES ===\n",
            "Categorical columns: ['education']\n",
            "\n",
            "education value counts:\n",
            "education\n",
            "College        68\n",
            "Graduate       66\n",
            "High School    66\n",
            "Name: count, dtype: int64\n"
          ]
        },
        {
          "data": {
            "image/png": "[encoded data removed]",
            "text/plain": [
              "<Figure size 800x400 with 1 Axes>"
            ]
          },
          "metadata": {},
          "output_type": "display_data"
        }
      ],
      "source": [
        "# Categorical variables analysis\n",
        "print(\"=== CATEGORICAL VARIABLES ===\")\n",
        "categorical_cols = df.select_dtypes(include=['object']).columns\n",
        "print(f\"Categorical columns: {list(categorical_cols)}\")\n",
        "\n",
        "for col in categorical_cols:\n",
        "    print(f\"\\n{col} value counts:\")\n",
        "    print(df[col].value_counts())\n",
        "    \n",
        "    # Create bar plot\n",
        "    plt.figure(figsize=(8, 4))\n",
        "    df[col].value_counts().plot(kind='bar')\n",
        "    plt.title(f'{col} Distribution')\n",
        "    plt.xlabel(col)\n",
        "    plt.ylabel('Count')\n",
        "    plt.xticks(rotation=45)\n",
        "    plt.show()\n"
      ]
    },
    {
      "cell_type": "code",
      "execution_count": 7,
      "metadata": {},
      "outputs": [
        {
          "name": "stdout",
          "output_type": "stream",
          "text": [
            "=== CORRELATION ANALYSIS ===\n"
          ]
        },
        {
          "ename": "ValueError",
          "evalue": "could not convert string to float: 'Graduate'",
          "output_type": "error",
          "traceback": [
            "\u001b[0;31m---------------------------------------------------------------------------\u001b[0m",
            "\u001b[0;31mValueError\u001b[0m                                Traceback (most recent call last)",
            "Cell \u001b[0;32mIn[7], line 3\u001b[0m\n\u001b[1;32m      1\u001b[0m \u001b[38;5;66;03m# Correlation analysis\u001b[39;00m\n\u001b[1;32m      2\u001b[0m \u001b[38;5;28mprint\u001b[39m(\u001b[38;5;124m\"\u001b[39m\u001b[38;5;124m=== CORRELATION ANALYSIS ===\u001b[39m\u001b[38;5;124m\"\u001b[39m)\n\u001b[0;32m----> 3\u001b[0m correlation_matrix \u001b[38;5;241m=\u001b[39m df\u001b[38;5;241m.\u001b[39mcorr()\n\u001b[1;32m      5\u001b[0m plt\u001b[38;5;241m.\u001b[39mfigure(figsize\u001b[38;5;241m=\u001b[39m(\u001b[38;5;241m8\u001b[39m, \u001b[38;5;241m6\u001b[39m))\n\u001b[1;32m      6\u001b[0m sns\u001b[38;5;241m.\u001b[39mheatmap(correlation_matrix, annot\u001b[38;5;241m=\u001b[39m\u001b[38;5;28;01mTrue\u001b[39;00m, cmap\u001b[38;5;241m=\u001b[39m\u001b[38;5;124m'\u001b[39m\u001b[38;5;124mcoolwarm\u001b[39m\u001b[38;5;124m'\u001b[39m, center\u001b[38;5;241m=\u001b[39m\u001b[38;5;241m0\u001b[39m)\n",
            "File \u001b[0;32m/opt/homebrew/anaconda3/lib/python3.11/site-packages/pandas/core/frame.py:10704\u001b[0m, in \u001b[0;36mDataFrame.corr\u001b[0;34m(self, method, min_periods, numeric_only)\u001b[0m\n\u001b[1;32m  10702\u001b[0m cols \u001b[38;5;241m=\u001b[39m data\u001b[38;5;241m.\u001b[39mcolumns\n\u001b[1;32m  10703\u001b[0m idx \u001b[38;5;241m=\u001b[39m cols\u001b[38;5;241m.\u001b[39mcopy()\n\u001b[0;32m> 10704\u001b[0m mat \u001b[38;5;241m=\u001b[39m data\u001b[38;5;241m.\u001b[39mto_numpy(dtype\u001b[38;5;241m=\u001b[39m\u001b[38;5;28mfloat\u001b[39m, na_value\u001b[38;5;241m=\u001b[39mnp\u001b[38;5;241m.\u001b[39mnan, copy\u001b[38;5;241m=\u001b[39m\u001b[38;5;28;01mFalse\u001b[39;00m)\n\u001b[1;32m  10706\u001b[0m \u001b[38;5;28;01mif\u001b[39;00m method \u001b[38;5;241m==\u001b[39m \u001b[38;5;124m\"\u001b[39m\u001b[38;5;124mpearson\u001b[39m\u001b[38;5;124m\"\u001b[39m:\n\u001b[1;32m  10707\u001b[0m     correl \u001b[38;5;241m=\u001b[39m libalgos\u001b[38;5;241m.\u001b[39mnancorr(mat, minp\u001b[38;5;241m=\u001b[39mmin_periods)\n",
            "File \u001b[0;32m/opt/homebrew/anaconda3/lib/python3.11/site-packages/pandas/core/frame.py:1889\u001b[0m, in \u001b[0;36mDataFrame.to_numpy\u001b[0;34m(self, dtype, copy, na_value)\u001b[0m\n\u001b[1;32m   1887\u001b[0m \u001b[38;5;28;01mif\u001b[39;00m dtype \u001b[38;5;129;01mis\u001b[39;00m \u001b[38;5;129;01mnot\u001b[39;00m \u001b[38;5;28;01mNone\u001b[39;00m:\n\u001b[1;32m   1888\u001b[0m     dtype \u001b[38;5;241m=\u001b[39m np\u001b[38;5;241m.\u001b[39mdtype(dtype)\n\u001b[0;32m-> 1889\u001b[0m result \u001b[38;5;241m=\u001b[39m \u001b[38;5;28mself\u001b[39m\u001b[38;5;241m.\u001b[39m_mgr\u001b[38;5;241m.\u001b[39mas_array(dtype\u001b[38;5;241m=\u001b[39mdtype, copy\u001b[38;5;241m=\u001b[39mcopy, na_value\u001b[38;5;241m=\u001b[39mna_value)\n\u001b[1;32m   1890\u001b[0m \u001b[38;5;28;01mif\u001b[39;00m result\u001b[38;5;241m.\u001b[39mdtype \u001b[38;5;129;01mis\u001b[39;00m \u001b[38;5;129;01mnot\u001b[39;00m dtype:\n\u001b[1;32m   1891\u001b[0m     result \u001b[38;5;241m=\u001b[39m np\u001b[38;5;241m.\u001b[39marray(result, dtype\u001b[38;5;241m=\u001b[39mdtype, copy\u001b[38;5;241m=\u001b[39m\u001b[38;5;28;01mFalse\u001b[39;00m)\n",
            "File \u001b[0;32m/opt/homebrew/anaconda3/lib/python3.11/site-packages/pandas/core/internals/managers.py:1656\u001b[0m, in \u001b[0;36mBlockManager.as_array\u001b[0;34m(self, dtype, copy, na_value)\u001b[0m\n\u001b[1;32m   1654\u001b[0m         arr\u001b[38;5;241m.\u001b[39mflags\u001b[38;5;241m.\u001b[39mwriteable \u001b[38;5;241m=\u001b[39m \u001b[38;5;28;01mFalse\u001b[39;00m\n\u001b[1;32m   1655\u001b[0m \u001b[38;5;28;01melse\u001b[39;00m:\n\u001b[0;32m-> 1656\u001b[0m     arr \u001b[38;5;241m=\u001b[39m \u001b[38;5;28mself\u001b[39m\u001b[38;5;241m.\u001b[39m_interleave(dtype\u001b[38;5;241m=\u001b[39mdtype, na_value\u001b[38;5;241m=\u001b[39mna_value)\n\u001b[1;32m   1657\u001b[0m     \u001b[38;5;66;03m# The underlying data was copied within _interleave, so no need\u001b[39;00m\n\u001b[1;32m   1658\u001b[0m     \u001b[38;5;66;03m# to further copy if copy=True or setting na_value\u001b[39;00m\n\u001b[1;32m   1660\u001b[0m \u001b[38;5;28;01mif\u001b[39;00m na_value \u001b[38;5;129;01mis\u001b[39;00m lib\u001b[38;5;241m.\u001b[39mno_default:\n",
            "File \u001b[0;32m/opt/homebrew/anaconda3/lib/python3.11/site-packages/pandas/core/internals/managers.py:1715\u001b[0m, in \u001b[0;36mBlockManager._interleave\u001b[0;34m(self, dtype, na_value)\u001b[0m\n\u001b[1;32m   1713\u001b[0m     \u001b[38;5;28;01melse\u001b[39;00m:\n\u001b[1;32m   1714\u001b[0m         arr \u001b[38;5;241m=\u001b[39m blk\u001b[38;5;241m.\u001b[39mget_values(dtype)\n\u001b[0;32m-> 1715\u001b[0m     result[rl\u001b[38;5;241m.\u001b[39mindexer] \u001b[38;5;241m=\u001b[39m arr\n\u001b[1;32m   1716\u001b[0m     itemmask[rl\u001b[38;5;241m.\u001b[39mindexer] \u001b[38;5;241m=\u001b[39m \u001b[38;5;241m1\u001b[39m\n\u001b[1;32m   1718\u001b[0m \u001b[38;5;28;01mif\u001b[39;00m \u001b[38;5;129;01mnot\u001b[39;00m itemmask\u001b[38;5;241m.\u001b[39mall():\n",
            "\u001b[0;31mValueError\u001b[0m: could not convert string to float: 'Graduate'"
          ]
        }
      ],
      "source": [
        "# Correlation analysis\n",
        "print(\"=== CORRELATION ANALYSIS ===\")\n",
        "correlation_matrix = df.corr()\n",
        "\n",
        "plt.figure(figsize=(8, 6))\n",
        "sns.heatmap(correlation_matrix, annot=True, cmap='coolwarm', center=0)\n",
        "plt.title('Correlation Matrix')\n",
        "plt.show()\n",
        "\n",
        "# Show correlations with target variable\n",
        "if 'target' in df.columns:\n",
        "    target_correlations = correlation_matrix['target'].sort_values(ascending=False)\n",
        "    print(\"\\nCorrelations with target variable:\")\n",
        "    print(target_correlations)\n"
      ]
    },
    {
      "cell_type": "code",
      "execution_count": null,
      "metadata": {},
      "outputs": [],
      "source": [
        "# Relationship between variables and target\n",
        "print(\"=== RELATIONSHIPS WITH TARGET ===\")\n",
        "\n",
        "# Box plots for numerical variables vs target\n",
        "numerical_cols_no_target = [col for col in numerical_cols if col != 'target']\n",
        "\n",
        "if len(numerical_cols_no_target) > 0:\n",
        "    fig, axes = plt.subplots(1, len(numerical_cols_no_target), figsize=(5*len(numerical_cols_no_target), 4))\n",
        "    if len(numerical_cols_no_target) == 1:\n",
        "        axes = [axes]\n",
        "    \n",
        "    for i, col in enumerate(numerical_cols_no_target):\n",
        "        df.boxplot(column=col, by='target', ax=axes[i])\n",
        "        axes[i].set_title(f'{col} by Target')\n",
        "        axes[i].set_xlabel('Target')\n",
        "        axes[i].set_ylabel(col)\n",
        "    \n",
        "    plt.tight_layout()\n",
        "    plt.show()\n",
        "\n",
        "# Crosstabs for categorical variables vs target\n",
        "for col in categorical_cols:\n",
        "    print(f\"\\n{col} vs Target:\")\n",
        "    crosstab = pd.crosstab(df[col], df['target'], normalize='index')\n",
        "    print(crosstab.round(3))\n"
      ]
    },
    {
      "cell_type": "markdown",
      "metadata": {},
      "source": [
        "## 3. Hypothesis Formulation\n",
        "\n",
        "Based on your EDA, formulate **2-3 testable hypotheses**. Each hypothesis should be:\n",
        "- Clear and specific\n",
        "- Testable with statistical methods\n",
        "- Grounded in your observations\n",
        "\n",
        "### Hypothesis 1: [Your first hypothesis]\n",
        "**H1:** [State your hypothesis]\n",
        "- **Null Hypothesis (H0):** [State null hypothesis]\n",
        "- **Alternative Hypothesis (H1):** [State alternative hypothesis]\n",
        "- **Rationale:** [Explain why you think this relationship exists]\n",
        "\n",
        "### Hypothesis 2: [Your second hypothesis]\n",
        "**H2:** [State your hypothesis]\n",
        "- **Null Hypothesis (H0):** [State null hypothesis]\n",
        "- **Alternative Hypothesis (H1):** [State alternative hypothesis]\n",
        "- **Rationale:** [Explain why you think this relationship exists]\n",
        "\n",
        "### Hypothesis 3: [Your third hypothesis - optional]\n",
        "**H3:** [State your hypothesis]\n",
        "- **Null Hypothesis (H0):** [State null hypothesis]\n",
        "- **Alternative Hypothesis (H1):** [State alternative hypothesis]\n",
        "- **Rationale:** [Explain why you think this relationship exists]\n",
        "\n",
        "---\n"
      ]
    },
    {
      "cell_type": "markdown",
      "metadata": {},
      "source": [
        "## 4. Hypothesis Testing\n",
        "\n",
        "Test each hypothesis using appropriate statistical methods. For each test, explain:\n",
        "- Why you chose this test\n",
        "- The results and interpretation\n",
        "- Whether you reject or fail to reject the null hypothesis\n"
      ]
    },
    {
      "cell_type": "markdown",
      "metadata": {},
      "source": [
        "### Testing Hypothesis 1: [Your first hypothesis]\n",
        "\n",
        "**Test Choice:** [t-test, chi-square, correlation, etc.]\n",
        "- **Why appropriate:** [Explain why this test is suitable for your data and hypothesis]\n"
      ]
    },
    {
      "cell_type": "code",
      "execution_count": null,
      "metadata": {},
      "outputs": [],
      "source": [
        "# Hypothesis 1 Testing\n",
        "print(\"=== TESTING HYPOTHESIS 1 ===\")\n",
        "\n",
        "# Your code for testing hypothesis 1 here\n",
        "# Example structure:\n",
        "# 1. Prepare your data\n",
        "# 2. Check assumptions if needed\n",
        "# 3. Perform the statistical test\n",
        "# 4. Interpret results\n",
        "\n",
        "# Example for t-test:\n",
        "# group1 = df[df['condition'] == 0]['variable']\n",
        "# group2 = df[df['condition'] == 1]['variable']\n",
        "# t_stat, p_value = stats.ttest_ind(group1, group2)\n",
        "# print(f\"t-statistic: {t_stat:.4f}\")\n",
        "# print(f\"p-value: {p_value:.4f}\")\n",
        "# \n",
        "# if p_value < 0.05:\n",
        "#     print(\"Reject H0: There is a significant difference\")\n",
        "# else:\n",
        "#     print(\"Fail to reject H0: No significant difference\")\n",
        "\n",
        "print(\"Replace this with your actual hypothesis 1 testing code\")\n"
      ]
    },
    {
      "cell_type": "markdown",
      "metadata": {},
      "source": [
        "### Testing Hypothesis 2: [Your second hypothesis]\n",
        "\n",
        "**Test Choice:** [t-test, chi-square, correlation, etc.]\n",
        "- **Why appropriate:** [Explain why this test is suitable for your data and hypothesis]\n"
      ]
    },
    {
      "cell_type": "code",
      "execution_count": null,
      "metadata": {},
      "outputs": [],
      "source": [
        "# Hypothesis 2 Testing\n",
        "print(\"=== TESTING HYPOTHESIS 2 ===\")\n",
        "\n",
        "# Your code for testing hypothesis 2 here\n",
        "# Example for chi-square test:\n",
        "# contingency_table = pd.crosstab(df['var1'], df['var2'])\n",
        "# chi2, p_value, dof, expected = stats.chi2_contingency(contingency_table)\n",
        "# print(f\"Chi-square statistic: {chi2:.4f}\")\n",
        "# print(f\"p-value: {p_value:.4f}\")\n",
        "# \n",
        "# if p_value < 0.05:\n",
        "#     print(\"Reject H0: Variables are significantly associated\")\n",
        "# else:\n",
        "#     print(\"Fail to reject H0: No significant association\")\n",
        "\n",
        "print(\"Replace this with your actual hypothesis 2 testing code\")\n"
      ]
    },
    {
      "cell_type": "markdown",
      "metadata": {},
      "source": [
        "### Testing Hypothesis 3: [Your third hypothesis - if applicable]\n",
        "\n",
        "**Test Choice:** [t-test, chi-square, correlation, etc.]\n",
        "- **Why appropriate:** [Explain why this test is suitable for your data and hypothesis]\n"
      ]
    },
    {
      "cell_type": "code",
      "execution_count": null,
      "metadata": {},
      "outputs": [],
      "source": [
        "# Hypothesis 3 Testing (if applicable)\n",
        "print(\"=== TESTING HYPOTHESIS 3 ===\")\n",
        "\n",
        "# Your code for testing hypothesis 3 here\n",
        "print(\"Replace this with your actual hypothesis 3 testing code\")\n"
      ]
    },
    {
      "cell_type": "markdown",
      "metadata": {},
      "source": [
        "## 5. Summary and Conclusions\n",
        "\n",
        "### Key Findings from EDA:\n",
        "1. [List your main observations from the exploratory analysis]\n",
        "2. [Describe patterns you identified]\n",
        "3. [Note any interesting relationships]\n",
        "\n",
        "### Hypothesis Testing Results:\n",
        "\n",
        "| Hypothesis | Test Used | p-value | Result | Interpretation |\n",
        "|------------|-----------|---------|--------|-----------------|\n",
        "| **H1** | [Test name] | [p-value] | [Significant/Not] | [Brief interpretation] |\n",
        "| **H2** | [Test name] | [p-value] | [Significant/Not] | [Brief interpretation] |\n",
        "| **H3** | [Test name] | [p-value] | [Significant/Not] | [Brief interpretation] |\n",
        "\n",
        "### Key Insights:\n",
        "- [What do your results tell you about the data?]\n",
        "- [What are the practical implications?]\n",
        "- [What limitations should be considered?]\n",
        "\n",
        "### Future Research:\n",
        "- [What additional analysis could be done?]\n",
        "- [What other variables might be important?]\n",
        "\n",
        "---\n",
        "\n",
        "**Note:** Remember to replace the sample data with your actual dataset and fill in all the template sections with your own analysis and interpretations.\n"
      ]
    },
    {
      "cell_type": "code",
      "execution_count": null,
      "metadata": {},
      "outputs": [],
      "source": [
        "# Final summary\n",
        "print(\"=== ANALYSIS COMPLETE ===\")\n",
        "print(f\"Dataset analyzed: [Your dataset name]\")\n",
        "print(f\"Sample size: {len(df)} observations\")\n",
        "print(f\"Number of features: {df.shape[1]-1} (excluding target)\")\n",
        "print(f\"\\nAnalysis completed successfully!\")\n",
        "print(\"\\nRemember to:\")\n",
        "print(\"1. Replace sample data with your actual dataset\")\n",
        "print(\"2. Fill in all template sections with your analysis\")\n",
        "print(\"3. Provide clear explanations for your choices\")\n",
        "print(\"4. Interpret your results meaningfully\")\n"
      ]
    }
  ],
  "metadata": {
    "kernelspec": {
      "display_name": "base",
      "language": "python",
      "name": "python3"
    },
    "language_info": {
      "codemirror_mode": {
        "name": "ipython",
        "version": 3
      },
      "file_extension": ".py",
      "mimetype": "text/x-python",
      "name": "python",
      "nbconvert_exporter": "python",
      "pygments_lexer": "ipython3",
      "version": "3.11.7"
    }
  },
  "nbformat": 4,
  "nbformat_minor": 2
}
