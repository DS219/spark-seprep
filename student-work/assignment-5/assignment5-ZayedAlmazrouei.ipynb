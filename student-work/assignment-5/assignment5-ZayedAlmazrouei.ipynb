{
  "nbformat": 4,
  "nbformat_minor": 0,
  "metadata": {
    "colab": {
      "provenance": []
    },
    "kernelspec": {
      "name": "python3",
      "display_name": "Python 3"
    },
    "language_info": {
      "name": "python"
    }
  },
  "cells": [
    {
      "cell_type": "code",
      "execution_count": 2,
      "metadata": {
        "colab": {
          "base_uri": "https://localhost:8080/"
        },
        "id": "TyrPQ_bEpzev",
        "outputId": "95718ba4-9213-4998-bc35-3d268353d95e"
      },
      "outputs": [
        {
          "output_type": "stream",
          "name": "stdout",
          "text": [
            "Collecting ucimlrepo\n",
            "  Downloading ucimlrepo-0.0.7-py3-none-any.whl.metadata (5.5 kB)\n",
            "Requirement already satisfied: pandas>=1.0.0 in /usr/local/lib/python3.12/dist-packages (from ucimlrepo) (2.2.2)\n",
            "Requirement already satisfied: certifi>=2020.12.5 in /usr/local/lib/python3.12/dist-packages (from ucimlrepo) (2025.8.3)\n",
            "Requirement already satisfied: numpy>=1.26.0 in /usr/local/lib/python3.12/dist-packages (from pandas>=1.0.0->ucimlrepo) (2.0.2)\n",
            "Requirement already satisfied: python-dateutil>=2.8.2 in /usr/local/lib/python3.12/dist-packages (from pandas>=1.0.0->ucimlrepo) (2.9.0.post0)\n",
            "Requirement already satisfied: pytz>=2020.1 in /usr/local/lib/python3.12/dist-packages (from pandas>=1.0.0->ucimlrepo) (2025.2)\n",
            "Requirement already satisfied: tzdata>=2022.7 in /usr/local/lib/python3.12/dist-packages (from pandas>=1.0.0->ucimlrepo) (2025.2)\n",
            "Requirement already satisfied: six>=1.5 in /usr/local/lib/python3.12/dist-packages (from python-dateutil>=2.8.2->pandas>=1.0.0->ucimlrepo) (1.17.0)\n",
            "Downloading ucimlrepo-0.0.7-py3-none-any.whl (8.0 kB)\n",
            "Installing collected packages: ucimlrepo\n",
            "Successfully installed ucimlrepo-0.0.7\n",
            "{'uci_id': 2, 'name': 'Adult', 'repository_url': 'https://archive.ics.uci.edu/dataset/2/adult', 'data_url': 'https://archive.ics.uci.edu/static/public/2/data.csv', 'abstract': 'Predict whether annual income of an individual exceeds $50K/yr based on census data. Also known as \"Census Income\" dataset. ', 'area': 'Social Science', 'tasks': ['Classification'], 'characteristics': ['Multivariate'], 'num_instances': 48842, 'num_features': 14, 'feature_types': ['Categorical', 'Integer'], 'demographics': ['Age', 'Income', 'Education Level', 'Other', 'Race', 'Sex'], 'target_col': ['income'], 'index_col': None, 'has_missing_values': 'yes', 'missing_values_symbol': 'NaN', 'year_of_dataset_creation': 1996, 'last_updated': 'Tue Sep 24 2024', 'dataset_doi': '10.24432/C5XW20', 'creators': ['Barry Becker', 'Ronny Kohavi'], 'intro_paper': None, 'additional_info': {'summary': \"Extraction was done by Barry Becker from the 1994 Census database.  A set of reasonably clean records was extracted using the following conditions: ((AAGE>16) && (AGI>100) && (AFNLWGT>1)&& (HRSWK>0))\\n\\nPrediction task is to determine whether a person's income is over $50,000 a year.\\n\", 'purpose': None, 'funded_by': None, 'instances_represent': None, 'recommended_data_splits': None, 'sensitive_data': None, 'preprocessing_description': None, 'variable_info': 'Listing of attributes:\\r\\n\\r\\n>50K, <=50K.\\r\\n\\r\\nage: continuous.\\r\\nworkclass: Private, Self-emp-not-inc, Self-emp-inc, Federal-gov, Local-gov, State-gov, Without-pay, Never-worked.\\r\\nfnlwgt: continuous.\\r\\neducation: Bachelors, Some-college, 11th, HS-grad, Prof-school, Assoc-acdm, Assoc-voc, 9th, 7th-8th, 12th, Masters, 1st-4th, 10th, Doctorate, 5th-6th, Preschool.\\r\\neducation-num: continuous.\\r\\nmarital-status: Married-civ-spouse, Divorced, Never-married, Separated, Widowed, Married-spouse-absent, Married-AF-spouse.\\r\\noccupation: Tech-support, Craft-repair, Other-service, Sales, Exec-managerial, Prof-specialty, Handlers-cleaners, Machine-op-inspct, Adm-clerical, Farming-fishing, Transport-moving, Priv-house-serv, Protective-serv, Armed-Forces.\\r\\nrelationship: Wife, Own-child, Husband, Not-in-family, Other-relative, Unmarried.\\r\\nrace: White, Asian-Pac-Islander, Amer-Indian-Eskimo, Other, Black.\\r\\nsex: Female, Male.\\r\\ncapital-gain: continuous.\\r\\ncapital-loss: continuous.\\r\\nhours-per-week: continuous.\\r\\nnative-country: United-States, Cambodia, England, Puerto-Rico, Canada, Germany, Outlying-US(Guam-USVI-etc), India, Japan, Greece, South, China, Cuba, Iran, Honduras, Philippines, Italy, Poland, Jamaica, Vietnam, Mexico, Portugal, Ireland, France, Dominican-Republic, Laos, Ecuador, Taiwan, Haiti, Columbia, Hungary, Guatemala, Nicaragua, Scotland, Thailand, Yugoslavia, El-Salvador, Trinadad&Tobago, Peru, Hong, Holand-Netherlands.', 'citation': None}}\n",
            "              name     role         type      demographic  \\\n",
            "0              age  Feature      Integer              Age   \n",
            "1        workclass  Feature  Categorical           Income   \n",
            "2           fnlwgt  Feature      Integer             None   \n",
            "3        education  Feature  Categorical  Education Level   \n",
            "4    education-num  Feature      Integer  Education Level   \n",
            "5   marital-status  Feature  Categorical            Other   \n",
            "6       occupation  Feature  Categorical            Other   \n",
            "7     relationship  Feature  Categorical            Other   \n",
            "8             race  Feature  Categorical             Race   \n",
            "9              sex  Feature       Binary              Sex   \n",
            "10    capital-gain  Feature      Integer             None   \n",
            "11    capital-loss  Feature      Integer             None   \n",
            "12  hours-per-week  Feature      Integer             None   \n",
            "13  native-country  Feature  Categorical            Other   \n",
            "14          income   Target       Binary           Income   \n",
            "\n",
            "                                          description units missing_values  \n",
            "0                                                 N/A  None             no  \n",
            "1   Private, Self-emp-not-inc, Self-emp-inc, Feder...  None            yes  \n",
            "2                                                None  None             no  \n",
            "3    Bachelors, Some-college, 11th, HS-grad, Prof-...  None             no  \n",
            "4                                                None  None             no  \n",
            "5   Married-civ-spouse, Divorced, Never-married, S...  None             no  \n",
            "6   Tech-support, Craft-repair, Other-service, Sal...  None            yes  \n",
            "7   Wife, Own-child, Husband, Not-in-family, Other...  None             no  \n",
            "8   White, Asian-Pac-Islander, Amer-Indian-Eskimo,...  None             no  \n",
            "9                                       Female, Male.  None             no  \n",
            "10                                               None  None             no  \n",
            "11                                               None  None             no  \n",
            "12                                               None  None             no  \n",
            "13  United-States, Cambodia, England, Puerto-Rico,...  None            yes  \n",
            "14                                       >50K, <=50K.  None             no  \n",
            "pandas 2.2.2 | numpy 2.0.2\n"
          ]
        }
      ],
      "source": [
        "\n",
        "%pip install ucimlrepo\n",
        "from ucimlrepo import fetch_ucirepo\n",
        "\n",
        "# fetch dataset\n",
        "adult = fetch_ucirepo(id=2)\n",
        "\n",
        "# data (as pandas dataframes)\n",
        "X = adult.data.features\n",
        "y = adult.data.targets\n",
        "\n",
        "# metadata\n",
        "print(adult.metadata)\n",
        "\n",
        "# variable information\n",
        "print(adult.variables)\n",
        "\n",
        "\n",
        "\n",
        "import pandas as pd\n",
        "import numpy as np\n",
        "import matplotlib.pyplot as plt\n",
        "from scipy import stats\n",
        "\n",
        "pd.set_option(\"display.max_rows\", 200)\n",
        "pd.set_option(\"display.max_columns\", 200)\n",
        "\n",
        "print(\"pandas\", pd.__version__, \"| numpy\", np.__version__)\n",
        "\n",
        "\n",
        "\n",
        "\n",
        "\n",
        "\n",
        "\n"
      ]
    },
    {
      "cell_type": "code",
      "source": [
        "\n",
        "df = pd.concat([X, y], axis=1).copy()\n",
        "\n",
        "income_col = [c for c in df.columns if \"income\" in c.lower()][0]\n",
        "df[income_col] = (\n",
        "    df[income_col].astype(str)\n",
        "    .str.replace(\".\", \"\", regex=False)\n",
        "    .str.strip()\n",
        ")\n",
        "\n",
        "\n",
        "for c in df.select_dtypes(include=\"object\").columns:\n",
        "    df[c] = df[c].astype(str).str.strip()\n",
        "\n",
        "\n",
        "def pick(*names):\n",
        "    names = [n.lower().replace(\"-\", \"_\") for n in names]\n",
        "    for c in df.columns:\n",
        "        if c.lower().replace(\"-\", \"_\") in names:\n",
        "            return c\n",
        "    return None\n",
        "\n",
        "age   = pick(\"age\")\n",
        "sex   = pick(\"sex\")\n",
        "edu   = pick(\"education\")\n",
        "edun  = pick(\"education_num\")\n",
        "gain  = pick(\"capital_gain\")\n",
        "loss  = pick(\"capital_loss\")\n",
        "hrs   = pick(\"hours_per_week\")\n",
        "\n",
        "for c in [age, edun, gain, loss, hrs]:\n",
        "    if c is not None:\n",
        "        df[c] = pd.to_numeric(df[c], errors=\"coerce\")\n",
        "\n",
        "#combined X and y to keep everything in one place, then standardized the income labels\n",
        "# and coerced the obvious numeric fields so stats won’t break later. I didn’t over-clean\n",
        "#because the goal is inference, not modeling. This gives me a trustworthy df with minimal prep.\n"
      ],
      "metadata": {
        "id": "RPubfOG5sB_Z"
      },
      "execution_count": 11,
      "outputs": []
    },
    {
      "cell_type": "code",
      "source": [
        "print(\"Shape:\", df.shape)\n",
        "\n",
        "print(\"\\nMissing (top 10):\")\n",
        "print(df.isna().sum().sort_values(ascending=False).head(10))\n",
        "\n",
        "print(\"\\nTarget counts:\")\n",
        "print(df[income_col].value_counts())\n",
        "\n",
        "num_cols = [c for c in [age, hrs, gain, loss, edun] if c]\n",
        "print(\"\\nNumeric summary:\")\n",
        "print(df[num_cols].describe().T.round(2))\n",
        "\n",
        "if age: df[age].plot(kind=\"hist\", bins=40, title=f\"{age}\"); plt.xlabel(age); plt.show()\n",
        "if hrs: df[hrs].plot(kind=\"hist\", bins=40, title=f\"{hrs}\"); plt.xlabel(hrs); plt.show()\n",
        "\n",
        "#I scanned types, missingness, and a few key summaries to confirm nothing weird would bias the tests.\n",
        "# The histograms let me quickly see the 40-hour cluster and the heavy zeros in gains/losses.\n",
        "# This was just enough context to motivate which hypotheses are worth testing.\n"
      ],
      "metadata": {
        "colab": {
          "base_uri": "https://localhost:8080/",
          "height": 1000
        },
        "id": "kIi2nPe-tho-",
        "outputId": "8cd34ccc-6afb-4ac7-e730-96fb826bcdcf"
      },
      "execution_count": 10,
      "outputs": [
        {
          "output_type": "stream",
          "name": "stdout",
          "text": [
            "Shape: (48842, 15)\n",
            "\n",
            "Missing (top 10):\n",
            "age               0\n",
            "workclass         0\n",
            "fnlwgt            0\n",
            "education         0\n",
            "education-num     0\n",
            "marital-status    0\n",
            "occupation        0\n",
            "relationship      0\n",
            "race              0\n",
            "sex               0\n",
            "dtype: int64\n",
            "\n",
            "Target counts:\n",
            "income\n",
            "<=50K    37155\n",
            ">50K     11687\n",
            "Name: count, dtype: int64\n",
            "\n",
            "Numeric summary:\n",
            "                  count     mean      std   min   25%   50%   75%      max\n",
            "age             48842.0    38.64    13.71  17.0  28.0  37.0  48.0     90.0\n",
            "hours-per-week  48842.0    40.42    12.39   1.0  40.0  40.0  45.0     99.0\n",
            "capital-gain    48842.0  1079.07  7452.02   0.0   0.0   0.0   0.0  99999.0\n",
            "capital-loss    48842.0    87.50   403.00   0.0   0.0   0.0   0.0   4356.0\n",
            "education-num   48842.0    10.08     2.57   1.0   9.0  10.0  12.0     16.0\n"
          ]
        },
        {
          "output_type": "display_data",
          "data": {
            "text/plain": [
              "<Figure size 640x480 with 1 Axes>"
            ],
            "image/png": "[encoded data removed]"
          },
          "metadata": {}
        },
        {
          "output_type": "display_data",
          "data": {
            "text/plain": [
              "<Figure size 640x480 with 1 Axes>"
            ],
            "image/png": "[encoded data removed]"
          },
          "metadata": {}
        }
      ]
    },
    {
      "cell_type": "code",
      "source": [
        "H1 = \"Education is associated with income.\"\n",
        "H2 = \"The proportion earning >50K differs between males and females.\"\n",
        "H3 = \"Mean age differs between income groups.\"\n",
        "print(H1); print(H2); print(H3)\n",
        "\n",
        "#I chose three questions that map cleanly to standard tests: association (education↔income), difference in proportions (sex), and difference in means (age).\n",
        "# They’re grounded in the quick EDA and use large, well-populated groups, so the tests are appropriate without complicated assumptions.\n",
        "\n"
      ],
      "metadata": {
        "colab": {
          "base_uri": "https://localhost:8080/"
        },
        "id": "lo3LuHEltlZ8",
        "outputId": "b6814b6e-2b11-488c-c2cb-dda3f6b355db"
      },
      "execution_count": 6,
      "outputs": [
        {
          "output_type": "stream",
          "name": "stdout",
          "text": [
            "Education is associated with income.\n",
            "The proportion earning >50K differs between males and females.\n",
            "Mean age differs between income groups.\n"
          ]
        }
      ]
    },
    {
      "cell_type": "code",
      "source": [
        "alpha = 0.05\n",
        "def verdict(p):\n",
        "    return \"Reject H0\" if p < alpha else \"Fail to reject H0\"\n",
        "\n",
        "results = {}\n",
        "\n",
        "# H1: Chi-square (education × income)\n",
        "if edu:\n",
        "    tbl = pd.crosstab(df[edu], df[income_col])\n",
        "    chi2, p, dof, _ = stats.chi2_contingency(tbl)\n",
        "    n = tbl.values.sum(); r, k = tbl.shape\n",
        "    V = np.sqrt((chi2/n) / (min(r-1, k-1)))\n",
        "    results[\"H1\"] = {\"chi2\": float(chi2), \"dof\": int(dof), \"p\": float(p), \"cramers_V\": float(V)}\n",
        "    print(f\"H1: chi2={chi2:.2f}, dof={dof}, p={p:.3g}, Cramér's V={V:.3f} -> {verdict(p)}\")\n",
        "\n",
        "# H2: Two-proportion z-test (Male vs Female) on P(>50K)\n",
        "if sex:\n",
        "    ct = pd.crosstab(df[sex], df[income_col]).reindex(index=[\"Female\",\"Male\"], columns=[\"<=50K\",\">50K\"], fill_value=0)\n",
        "    xM, nM = int(ct.loc[\"Male\",   \">50K\"]), int(ct.loc[\"Male\"].sum())\n",
        "    xF, nF = int(ct.loc[\"Female\", \">50K\"]), int(ct.loc[\"Female\"].sum())\n",
        "    p_pool = (xM+xF)/(nM+nF)\n",
        "    se = np.sqrt(p_pool*(1-p_pool)*(1/nM + 1/nF))\n",
        "    z = (xM/nM - xF/nF) / se\n",
        "    p_two = 2*(1 - stats.norm.cdf(abs(z)))\n",
        "    pM, pF = xM/nM, xF/nF\n",
        "    h = 2*np.arcsin(np.sqrt(pM)) - 2*np.arcsin(np.sqrt(pF))   # Cohen's h\n",
        "    results[\"H2\"] = {\"z\": float(z), \"p\": float(p_two), \"p_male\": float(pM), \"p_female\": float(pF), \"cohens_h\": float(h)}\n",
        "    print(f\"H2: p_male={pM:.3f}, p_female={pF:.3f}, z={z:.2f}, p={p_two:.3g}, h={h:.3f} -> {verdict(p_two)}\")\n",
        "\n",
        "    # Tiny bar (optional)\n",
        "    props = df.groupby(sex)[income_col].apply(lambda s: (s==\">50K\").mean()).reindex([\"Female\",\"Male\"])\n",
        "    props.plot(kind=\"bar\", rot=0, title=\"P(>50K) by sex\"); plt.ylim(0,1); plt.ylabel(\"Proportion\"); plt.show()\n",
        "\n",
        "# H3: Welch t-test (age by income)\n",
        "if age:\n",
        "    hi = df.loc[df[income_col]==\">50K\",  age].dropna()\n",
        "    lo = df.loc[df[income_col]==\"<=50K\", age].dropna()\n",
        "    t, p = stats.ttest_ind(hi, lo, equal_var=False)\n",
        "    n1, n2 = len(hi), len(lo)\n",
        "    s1, s2 = hi.std(ddof=1), lo.std(ddof=1)\n",
        "    sp = np.sqrt(((n1-1)*s1**2 + (n2-1)*s2**2) / (n1+n2-2))\n",
        "    d = (hi.mean() - lo.mean()) / sp\n",
        "    results[\"H3\"] = {\"t\": float(t), \"p\": float(p), \"mean_hi\": float(hi.mean()), \"mean_lo\": float(lo.mean()), \"cohens_d\": float(d)}\n",
        "    print(f\"H3: mean(>50K)={hi.mean():.2f} vs mean(<=50K)={lo.mean():.2f}, t={t:.2f}, p={p:.3g}, d={d:.3f} -> {verdict(p)}\")\n",
        "\n",
        "\n",
        "#For education vs income I used a chi-square test and reported Cramér’s V to say how strong any association is.\n",
        "# For sex differences I used a two-proportion z-test and included Cohen’s h so it’s not just “significant” but also sized.\n",
        "#For age I used Welch’s t-test to handle unequal variances, plus Cohen’s d to quantify the gap."
      ],
      "metadata": {
        "colab": {
          "base_uri": "https://localhost:8080/",
          "height": 524
        },
        "id": "VmVXUt8vtn6H",
        "outputId": "60508a15-3ea2-4ed9-bea2-0c15e501c454"
      },
      "execution_count": 9,
      "outputs": [
        {
          "output_type": "stream",
          "name": "stdout",
          "text": [
            "H1: chi2=6537.97, dof=15, p=0, Cramér's V=0.366 -> Reject H0\n",
            "H2: p_male=0.304, p_female=0.109, z=47.43, p=0, h=0.494 -> Reject H0\n"
          ]
        },
        {
          "output_type": "display_data",
          "data": {
            "text/plain": [
              "<Figure size 640x480 with 1 Axes>"
            ],
            "image/png": "[encoded data removed]"
          },
          "metadata": {}
        },
        {
          "output_type": "stream",
          "name": "stdout",
          "text": [
            "H3: mean(>50K)=44.28 vs mean(<=50K)=36.87, t=60.66, p=0, d=0.555 -> Reject H0\n"
          ]
        }
      ]
    },
    {
      "cell_type": "code",
      "source": [
        "def line(label, ok):\n",
        "    return f\"{label} → {('Reject H0' if ok else 'Fail to reject H0')}\"\n",
        "\n",
        "out = []\n",
        "\n",
        "if \"H1\" in results:\n",
        "    r = results[\"H1\"]\n",
        "    out.append(\n",
        "        f\"H1 (Education ~ Income): chi2={r['chi2']:.2f}, dof={r['dof']}, p={r['p']:.3g}, \"\n",
        "        f\"Cramér's V={r['cramers_V']:.3f}. {line('Association', r['p']<0.05)}.\"\n",
        "    )\n",
        "if \"H2\" in results:\n",
        "    r = results[\"H2\"]\n",
        "    out.append(\n",
        "        f\"H2 (P(>50K) Male vs Female): {r['p_male']:.3f} vs {r['p_female']:.3f}, \"\n",
        "        f\"z={r['z']:.2f}, p={r['p']:.3g}, h={r['cohens_h']:.3f}. {line('Proportions differ', r['p']<0.05)}.\"\n",
        "    )\n",
        "if \"H3\" in results:\n",
        "    r = results[\"H3\"]\n",
        "    out.append(\n",
        "        f\"H3 (Age by Income): {r['mean_hi']:.2f} vs {r['mean_lo']:.2f}, \"\n",
        "        f\"t={r['t']:.2f}, p={r['p']:.3g}, d={r['cohens_d']:.3f}. {line('Means differ', r['p']<0.05)}.\"\n",
        "    )\n",
        "\n",
        "for s in out:\n",
        "    print(\"•\", s)\n",
        "\n",
        "#I summarized each result with the key numbers, a clear decision at α=0.05, and one plain-language takeaway.\n",
        "#The effect sizes keep me honest about practical importance, not only p-values.\n",
        "#Overall, the workflow stays minimal while answering the questions directly."
      ],
      "metadata": {
        "colab": {
          "base_uri": "https://localhost:8080/"
        },
        "id": "pFGHjZ9Vtqqk",
        "outputId": "8ea0e4c2-76d9-4770-d75a-c0e3b2a98505"
      },
      "execution_count": 8,
      "outputs": [
        {
          "output_type": "stream",
          "name": "stdout",
          "text": [
            "• H1 (Education ~ Income): chi2=6537.97, dof=15, p=0, Cramér's V=0.366. Association → Reject H0.\n",
            "• H2 (P(>50K) Male vs Female): 0.304 vs 0.109, z=47.43, p=0, h=0.494. Proportions differ → Reject H0.\n",
            "• H3 (Age by Income): 44.28 vs 36.87, t=60.66, p=0, d=0.555. Means differ → Reject H0.\n"
          ]
        }
      ]
    }
  ]
}