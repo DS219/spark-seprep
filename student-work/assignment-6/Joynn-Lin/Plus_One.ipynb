{
 "cells": [
  {
   "cell_type": "markdown",
   "id": "0dd84720",
   "metadata": {},
   "source": [
    "**Question:** You are given a large integer represented as an integer array digits, where each digits[i] is the ith digit of the integer. The digits are ordered from most significant to least significant in left-to-right order. The large integer does not contain any leading 0's.\n",
    "\n",
    "Increment the large integer by one and return the resulting array of digits."
   ]
  },
  {
   "cell_type": "code",
   "execution_count": 1,
   "id": "4dcaadb6",
   "metadata": {},
   "outputs": [
    {
     "name": "stdout",
     "output_type": "stream",
     "text": [
      "[1, 2, 4]\n",
      "[1, 0, 0, 0]\n",
      "[1]\n"
     ]
    }
   ],
   "source": [
    "def plus_one(digits): \n",
    "    length = len(digits) # Get the length of the input list \n",
    "    if length == 0: # Edge case: empty list \n",
    "        return [1]  # Incrementing an empty list results in [1] \n",
    "    for i in range(length - 1, -1, -1): # Start incrementing the list from the end since that's how you would add numbers in elementary math \n",
    "        if digits[i] < 9:  # If the current digit is less than 9, increment and return \n",
    "            digits[i] += 1 \n",
    "            return digits \n",
    "        digits[i] = 0  # Set the current digit to 0 if it was 9, its like adding 1 to 9 in a large number. (1+9=10, so last digit becomes 0 and we carry over 1 to the next digit) \n",
    "    return [1] + digits  # If all digits were 9, we need to add a new leading 1, so 999 becomes 1000 \n",
    "\n",
    "# Test Code: \n",
    "num = [1, 2, 3] \n",
    "print(plus_one(num))  # Output: [1, 2, 4] \n",
    "print(plus_one([9, 9, 9]))  # Output: [1, 0, 0, 0]\n",
    "print(plus_one([]))  # Output: [1]"
   ]
  }
 ],
 "metadata": {
  "kernelspec": {
   "display_name": "Python 3",
   "language": "python",
   "name": "python3"
  },
  "language_info": {
   "codemirror_mode": {
    "name": "ipython",
    "version": 3
   },
   "file_extension": ".py",
   "mimetype": "text/x-python",
   "name": "python",
   "nbconvert_exporter": "python",
   "pygments_lexer": "ipython3",
   "version": "3.12.5"
  }
 },
 "nbformat": 4,
 "nbformat_minor": 5
}
